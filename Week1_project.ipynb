{
 "cells": [
  {
   "cell_type": "markdown",
   "id": "f02aab6b",
   "metadata": {},
   "source": [
    "\n",
    "# Week 1 project\n",
    "\n",
    "## datatypes in python\n",
    "\n",
    "## Expression and varible in python\n",
    "\n",
    "## single operations in python\n",
    "\n",
    "## Lists and Tuples\n",
    "\n",
    "## Dictionaries "
   ]
  },
  {
   "cell_type": "code",
   "execution_count": 16,
   "id": "997bfc53",
   "metadata": {},
   "outputs": [
    {
     "name": "stdout",
     "output_type": "stream",
     "text": [
      "78 \n",
      " 15.8 \n",
      " M\n",
      "Hi My name is Maryam and this is my first Python Project ,and I'am an AI student\n",
      "\n",
      " ['A+', 'A', 'B+', 'B', 'C+', 'C', 'D+', 'D', 'F']\n",
      "(12.3, 5, 9.2)\n",
      "{2, 3, 4, 5, 8}\n",
      "{1234: 'Course ID', 2: 'Department No.', 8: 'Class number', 9: 'Lecture starts:', 10: 'Lecture ends'}\n"
     ]
    }
   ],
   "source": [
    "                                     # I'm going to start with datatypes including list,tuple and dictionary \n",
    "\n",
    "# integers:\n",
    "NumberInt=78\n",
    "\n",
    "#float:\n",
    "NumberFlo=15.8\n",
    "\n",
    "#strings:\n",
    "StringType=\"Hi My name is Maryam and this is my first Python Project\"\n",
    "\n",
    "#chars\n",
    "char1='M'\n",
    "\n",
    "print(NumberInt,\"\\n\",NumberFlo,\"\\n\",char1) ; print(StringType,\",and I'am an AI student\")\n",
    "\n",
    "#List\n",
    "ListGrades=[\"A+\",\"A\",\"B+\",\"B\",\"C+\",\"C\",\"D+\",\"D\",\"F\"]\n",
    "\n",
    "#Tuple\n",
    "TuplesCoords=(12.3,5,9.2)\n",
    "\n",
    "print(\"\\n\",ListGrades);print(TuplesCoords)\n",
    "\n",
    "#set\n",
    "SetIDS={2,3,4,5,2,8} #sets are datatypes that contains only uniqe elements with no duplicates\n",
    "\n",
    "print(SetIDS)\n",
    "\n",
    "#Dict\n",
    "MyDict={1234:\"Course ID\" , 2:\"Department No.\" ,8:\"Class number\", 9:\"Lecture starts:\", 10:\"Lecture ends\"} #dicts have keys and Values\n",
    "\n",
    "print(MyDict) #in dictionaries keys ar immutible datatypes but values can be modified \n"
   ]
  },
  {
   "cell_type": "code",
   "execution_count": 22,
   "id": "6253617d",
   "metadata": {},
   "outputs": [
    {
     "name": "stdout",
     "output_type": "stream",
     "text": [
      "result of  3 + 5 = 8\n",
      "result of  4 * 8 = 32\n",
      "result of  8 / 4 = 2.0\n",
      "result of  9 - 1 = 8\n",
      "MyValue =  17\n"
     ]
    }
   ],
   "source": [
    "                                                # Expression and varible \n",
    "\n",
    "#adddition\n",
    "num1= 3\n",
    "num2=5\n",
    "add=num1+num2\n",
    "\n",
    "#multiplication\n",
    "num3=4\n",
    "num4=8\n",
    "\n",
    "multi=num3*num4\n",
    "\n",
    "#division\n",
    "\n",
    "num5=8\n",
    "num6=4\n",
    "\n",
    "divi=num5/num6\n",
    "\n",
    "#substaction\n",
    "\n",
    "num7=9\n",
    "num8=1\n",
    "\n",
    "sub=num7-num8\n",
    "\n",
    "print(\"result of  {} + {} = {}\".format(num1,num2,add))\n",
    "print(\"result of  {} * {} = {}\".format(num3,num4,multi))\n",
    "print(\"result of  {} / {} = {}\".format(num5,num6,divi))\n",
    "print(\"result of  {} - {} = {}\".format(num7,num8,sub))\n",
    "\n",
    "#we can simply modify the value of existence varible \n",
    "#ex.\n",
    "\n",
    "MyValue= 13\n",
    "\n",
    "MyValue+=4\n",
    "\n",
    "print(\"MyValue = \",MyValue) #the output will be 17 instead of 13 because python considers the latest modification of any varible's value"
   ]
  },
  {
   "cell_type": "markdown",
   "id": "78e94f0b",
   "metadata": {},
   "source": [
    "# single operations in python"
   ]
  },
  {
   "cell_type": "code",
   "execution_count": 40,
   "id": "5bddcf7a",
   "metadata": {},
   "outputs": [
    {
     "name": "stdout",
     "output_type": "stream",
     "text": [
      "<class 'int'>\n",
      "<class 'float'>\n",
      "<class 'str'>\n",
      "4\n",
      "7\n",
      "3\n"
     ]
    }
   ],
   "source": [
    "#python provieds various single operations such as\n",
    "\n",
    "# int()\n",
    "ToInt= int(13.5) # converts any value to intger\n",
    "\n",
    "print(type(ToInt)) \n",
    "\n",
    "# float()\n",
    "\n",
    "Tofloat = float(7) # converts any value to floating point type\n",
    "\n",
    "print(type(Tofloat))\n",
    "\n",
    "# str()\n",
    "\n",
    "Tostring= str(200) #converts any value to string type\n",
    "\n",
    "print(type(Tostring))\n",
    "\n",
    "#each print statment above print the new type of each varible\n",
    "\n",
    "#len() \n",
    "\n",
    "MyLen= \"1250\"  \n",
    "print(len(MyLen)) #len of string varible is the number of characters in the string\n",
    "\n",
    "MyLen2=[1,2,3,5,6,7,\"Hi\"]\n",
    "print(len(MyLen2))\n",
    "\n",
    "# range(start,end,step)\n",
    "\n",
    "Myrange= range(0,6,2) #usualy used in for loops instead of this\n",
    "print(len(Myrange)) #printing the range without len() will result in the same varible value  "
   ]
  },
  {
   "cell_type": "markdown",
   "id": "2c486f9d",
   "metadata": {},
   "source": [
    "# project \n",
    "\n",
    "## Grades Classifier"
   ]
  },
  {
   "cell_type": "code",
   "execution_count": null,
   "id": "c6bd0126",
   "metadata": {},
   "outputs": [],
   "source": [
    "grades=[45,66,77,90,100,83,72,64,17]\n",
    "A=[]\n",
    "B=[]\n",
    "C=[]\n",
    "D=[]\n",
    "F=[]\n",
    "\n",
    "for grade in grades:\n",
    "        if grade >= 90 and grade <=100:\n",
    "            A.append(grade)\n",
    "            \n",
    "        elif grade <=89 and grade >=80:\n",
    "            B.append(grade)\n",
    "            \n",
    "        elif grade <=79 and grade >=70:\n",
    "            C.append(grade)\n",
    "            \n",
    "        elif grade <=69 and grade >=60:\n",
    "            D.append(grade)\n",
    "            \n",
    "        else:\n",
    "            F.append(grade)\n",
    "            \n",
    "            \n",
    "print(\"List with grades A :\",A)\n",
    "print(\"List with grades B:\",B)\n",
    "print(\"List with grades C:\",C)\n",
    "print(\"List with grades D:\",D)\n",
    "print(\"List with grades F:\",F)"
   ]
  }
 ],
 "metadata": {
  "kernelspec": {
   "display_name": "Python 3 (ipykernel)",
   "language": "python",
   "name": "python3"
  },
  "language_info": {
   "codemirror_mode": {
    "name": "ipython",
    "version": 3
   },
   "file_extension": ".py",
   "mimetype": "text/x-python",
   "name": "python",
   "nbconvert_exporter": "python",
   "pygments_lexer": "ipython3",
   "version": "3.9.12"
  }
 },
 "nbformat": 4,
 "nbformat_minor": 5
}
